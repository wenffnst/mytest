{
 "cells": [
  {
   "cell_type": "markdown",
   "metadata": {
    "lc_cell_meme": {
     "current": "03e3c254-c12e-11e8-b61b-0242ac110002",
     "next": "03e3c6a0-c12e-11e8-b61b-0242ac110002",
     "previous": null
    }
   },
   "source": [
    "# Let us study Jupyter!"
   ]
  },
  {
   "cell_type": "markdown",
   "metadata": {
    "lc_cell_meme": {
     "current": "03e3c6a0-c12e-11e8-b61b-0242ac110002",
     "next": "03e3d118-c12e-11e8-b61b-0242ac110002",
     "previous": "03e3c254-c12e-11e8-b61b-0242ac110002"
    }
   },
   "source": [
    "##  1.Insert picture"
   ]
  },
  {
   "cell_type": "markdown",
   "metadata": {
    "lc_cell_meme": {
     "current": "03e3d118-c12e-11e8-b61b-0242ac110002",
     "next": "03e3d578-c12e-11e8-b61b-0242ac110002",
     "previous": "03e3c6a0-c12e-11e8-b61b-0242ac110002"
    }
   },
   "source": [
    "### Method 1\n",
    "   Local picture\n",
    "   (Pay attention \"img\" floder should be in same folder with ipynb file.)"
   ]
  },
  {
   "cell_type": "markdown",
   "metadata": {
    "lc_cell_meme": {
     "current": "03e3d578-c12e-11e8-b61b-0242ac110002",
     "next": "03e3d8b6-c12e-11e8-b61b-0242ac110002",
     "previous": "03e3d118-c12e-11e8-b61b-0242ac110002"
    },
    "run_control": {
     "frozen": true
    }
   },
   "source": [
    "![title](img/girl.png)"
   ]
  },
  {
   "cell_type": "markdown",
   "metadata": {
    "lc_cell_meme": {
     "current": "03e3d8b6-c12e-11e8-b61b-0242ac110002",
     "next": "03e3dbb8-c12e-11e8-b61b-0242ac110002",
     "previous": "03e3d578-c12e-11e8-b61b-0242ac110002"
    }
   },
   "source": [
    "### Method 2"
   ]
  },
  {
   "cell_type": "markdown",
   "metadata": {
    "lc_cell_meme": {
     "current": "03e3dbb8-c12e-11e8-b61b-0242ac110002",
     "next": "03e3e23e-c12e-11e8-b61b-0242ac110002",
     "previous": "03e3d8b6-c12e-11e8-b61b-0242ac110002"
    },
    "run_control": {
     "frozen": true
    }
   },
   "source": [
    "<img src=\"img/girl.png\" style=\"width:300px;height:300px;\">"
   ]
  },
  {
   "cell_type": "markdown",
   "metadata": {
    "lc_cell_meme": {
     "current": "03e3e23e-c12e-11e8-b61b-0242ac110002",
     "next": "03e3e590-c12e-11e8-b61b-0242ac110002",
     "previous": "03e3dbb8-c12e-11e8-b61b-0242ac110002"
    }
   },
   "source": [
    "### Method 3\n",
    " Pictures from Internet"
   ]
  },
  {
   "cell_type": "markdown",
   "metadata": {
    "lc_cell_meme": {
     "current": "03e3e590-c12e-11e8-b61b-0242ac110002",
     "next": "03e3e89c-c12e-11e8-b61b-0242ac110002",
     "previous": "03e3e23e-c12e-11e8-b61b-0242ac110002"
    },
    "run_control": {
     "frozen": true
    }
   },
   "source": [
    "![Image of Internet](https://timgsa.baidu.com/timg?image&quality=80&size=b9999_10000&sec=1536644845048&di=ad08e3d6b21070a6111f04e505a1ad6c&imgtype=0&src=http%3A%2F%2Fimg1.replays.net%2Flol.replays.net%2Fuploads%2Fbody%2F2016%2F10%2F1476331448Yvh.jpg)"
   ]
  },
  {
   "cell_type": "markdown",
   "metadata": {
    "lc_cell_meme": {
     "current": "03e3e89c-c12e-11e8-b61b-0242ac110002",
     "next": "03e3eb80-c12e-11e8-b61b-0242ac110002",
     "previous": "03e3e590-c12e-11e8-b61b-0242ac110002"
    }
   },
   "source": [
    "# 2 Calculation formula"
   ]
  },
  {
   "cell_type": "markdown",
   "metadata": {
    "lc_cell_meme": {
     "current": "03e3eb80-c12e-11e8-b61b-0242ac110002",
     "next": "03e3ee6e-c12e-11e8-b61b-0242ac110002",
     "previous": "03e3e89c-c12e-11e8-b61b-0242ac110002"
    },
    "run_control": {
     "frozen": true
    }
   },
   "source": [
    "$$\\int_0^{+\\infty} x^2 dx$$"
   ]
  },
  {
   "cell_type": "markdown",
   "metadata": {
    "lc_cell_meme": {
     "current": "03e3ee6e-c12e-11e8-b61b-0242ac110002",
     "next": "03e3f4b8-c12e-11e8-b61b-0242ac110002",
     "previous": "03e3eb80-c12e-11e8-b61b-0242ac110002"
    },
    "run_control": {
     "frozen": true
    }
   },
   "source": [
    "$$e^{i\\pi} + 1 = 0$$"
   ]
  },
  {
   "cell_type": "markdown",
   "metadata": {
    "lc_cell_meme": {
     "current": "03e3f4b8-c12e-11e8-b61b-0242ac110002",
     "next": "03e3f828-c12e-11e8-b61b-0242ac110002",
     "previous": "03e3ee6e-c12e-11e8-b61b-0242ac110002"
    },
    "run_control": {
     "frozen": true
    }
   },
   "source": [
    "$$ P(A \\mid B) = \\frac{P(B \\mid A) \\, P(A)}{P(B)} $$"
   ]
  },
  {
   "cell_type": "markdown",
   "metadata": {
    "lc_cell_meme": {
     "current": "03e3f828-c12e-11e8-b61b-0242ac110002",
     "next": "03e3fb16-c12e-11e8-b61b-0242ac110002",
     "previous": "03e3f4b8-c12e-11e8-b61b-0242ac110002"
    },
    "run_control": {
     "frozen": true
    }
   },
   "source": [
    "\\begin{align}\n",
    "\\dot{x} & = \\sigma(y-x) \\\\\n",
    "\\dot{y} & = \\rho x - y - xz \\\\\n",
    "\\dot{z} & = -\\beta z + xy\n",
    "\\end{align}"
   ]
  },
  {
   "cell_type": "markdown",
   "metadata": {
    "lc_cell_meme": {
     "current": "03e3fb16-c12e-11e8-b61b-0242ac110002",
     "next": "03e3fde6-c12e-11e8-b61b-0242ac110002",
     "previous": "03e3f828-c12e-11e8-b61b-0242ac110002"
    },
    "run_control": {
     "frozen": true
    }
   },
   "source": [
    "\\begin{equation*}\n",
    "\\left( \\sum_{k=1}^n a_k b_k \\right)^2 \\leq \\left( \\sum_{k=1}^n a_k^2 \\right) \\left( \\sum_{k=1}^n b_k^2 \\right)\n",
    "\\end{equation*}"
   ]
  },
  {
   "cell_type": "markdown",
   "metadata": {
    "lc_cell_meme": {
     "current": "03e3fde6-c12e-11e8-b61b-0242ac110002",
     "next": "03e400b6-c12e-11e8-b61b-0242ac110002",
     "previous": "03e3fb16-c12e-11e8-b61b-0242ac110002"
    },
    "run_control": {
     "frozen": true
    }
   },
   "source": [
    "\\begin{equation*}\n",
    "\\mathbf{V}_1 \\times \\mathbf{V}_2 =  \\begin{vmatrix}\n",
    "\\mathbf{i} & \\mathbf{j} & \\mathbf{k} \\\\\n",
    "\\frac{\\partial X}{\\partial u} &  \\frac{\\partial Y}{\\partial u} & 0 \\\\\n",
    "\\frac{\\partial X}{\\partial v} &  \\frac{\\partial Y}{\\partial v} & 0\n",
    "\\end{vmatrix}\n",
    "\\end{equation*}"
   ]
  },
  {
   "cell_type": "markdown",
   "metadata": {
    "lc_cell_meme": {
     "current": "03e400b6-c12e-11e8-b61b-0242ac110002",
     "next": "03e4066a-c12e-11e8-b61b-0242ac110002",
     "previous": "03e3fde6-c12e-11e8-b61b-0242ac110002"
    },
    "run_control": {
     "frozen": true
    }
   },
   "source": [
    "\\begin{equation*}\n",
    "\\frac{1}{\\Bigl(\\sqrt{\\phi \\sqrt{5}}-\\phi\\Bigr) e^{\\frac25 \\pi}} =\n",
    "1+\\frac{e^{-2\\pi}} {1+\\frac{e^{-4\\pi}} {1+\\frac{e^{-6\\pi}}\n",
    "{1+\\frac{e^{-8\\pi}} {1+\\ldots} } } }\n",
    "\\end{equation*}"
   ]
  },
  {
   "cell_type": "markdown",
   "metadata": {
    "lc_cell_meme": {
     "current": "03e4066a-c12e-11e8-b61b-0242ac110002",
     "next": "03e40b38-c12e-11e8-b61b-0242ac110002",
     "previous": "03e400b6-c12e-11e8-b61b-0242ac110002"
    }
   },
   "source": [
    "#  3 Import matplotlib"
   ]
  },
  {
   "cell_type": "code",
   "execution_count": 9,
   "metadata": {
    "lc_cell_meme": {
     "current": "03e40b38-c12e-11e8-b61b-0242ac110002",
     "next": "03e40e3a-c12e-11e8-b61b-0242ac110002",
     "previous": "03e4066a-c12e-11e8-b61b-0242ac110002"
    }
   },
   "outputs": [],
   "source": [
    "%matplotlib inline"
   ]
  },
  {
   "cell_type": "code",
   "execution_count": 4,
   "metadata": {
    "ExecuteTime": {
     "end_time": "2018-09-27T05:36:19.724573Z",
     "start_time": "2018-09-27T05:36:17.449247Z"
    },
    "deletable": false,
    "editable": false,
    "lc_cell_meme": {
     "current": "03e40e3a-c12e-11e8-b61b-0242ac110002",
     "next": "03e41114-c12e-11e8-b61b-0242ac110002",
     "previous": "03e40b38-c12e-11e8-b61b-0242ac110002"
    },
    "run_through_control": {
     "frozen": true,
     "read_only": false
    }
   },
   "outputs": [
    {
     "data": {
      "text/plain": [
       "[<matplotlib.lines.Line2D at 0x7f16c38d4e10>]"
      ]
     },
     "execution_count": 4,
     "metadata": {},
     "output_type": "execute_result"
    }
   ],
   "source": [
    "import matplotlib.pyplot as plt\n",
    "import numpy as np\n",
    "\n",
    "x = np.arange(20)\n",
    "y =-2*x**2+2*x\n",
    "\n",
    "plt.plot(x, y)"
   ]
  },
  {
   "cell_type": "markdown",
   "metadata": {
    "lc_cell_meme": {
     "current": "03e41114-c12e-11e8-b61b-0242ac110002",
     "next": "03e413e4-c12e-11e8-b61b-0242ac110002",
     "previous": "03e40e3a-c12e-11e8-b61b-0242ac110002"
    }
   },
   "source": [
    "#  4 Python Examples"
   ]
  },
  {
   "cell_type": "markdown",
   "metadata": {
    "lc_cell_meme": {
     "current": "03e413e4-c12e-11e8-b61b-0242ac110002",
     "next": "03e418ee-c12e-11e8-b61b-0242ac110002",
     "previous": "03e41114-c12e-11e8-b61b-0242ac110002"
    }
   },
   "source": [
    "## 时间"
   ]
  },
  {
   "cell_type": "code",
   "execution_count": 5,
   "metadata": {
    "ExecuteTime": {
     "end_time": "2018-09-27T05:36:34.071948Z",
     "start_time": "2018-09-27T05:36:34.048773Z"
    },
    "deletable": false,
    "editable": false,
    "lc_cell_meme": {
     "current": "03e418ee-c12e-11e8-b61b-0242ac110002",
     "next": "03e41dc6-c12e-11e8-b61b-0242ac110002",
     "previous": "03e413e4-c12e-11e8-b61b-0242ac110002"
    },
    "run_through_control": {
     "frozen": true,
     "read_only": false
    }
   },
   "outputs": [
    {
     "name": "stdout",
     "output_type": "stream",
     "text": [
      "当前时间戳为: 1538026594.0565505\n",
      "本地时间为 : Thu Sep 27 05:36:34 2018\n",
      "   September 2018\n",
      "Mo Tu We Th Fr Sa Su\n",
      "                1  2\n",
      " 3  4  5  6  7  8  9\n",
      "10 11 12 13 14 15 16\n",
      "17 18 19 20 21 22 23\n",
      "24 25 26 27 28 29 30\n",
      "\n"
     ]
    }
   ],
   "source": [
    "import time;\n",
    "import calendar;\n",
    "ticks = time.time()\n",
    "print(\"当前时间戳为:\", ticks)\n",
    "localtime = time.asctime( time.localtime(time.time()))\n",
    "print(\"本地时间为 :\", localtime)\n",
    "## print(time.strftime(\"%Y-%m-%d %H:%M:%S\", time.localtime()))\n",
    "cal = calendar.month(2018,9)\n",
    "print(cal)"
   ]
  },
  {
   "cell_type": "markdown",
   "metadata": {
    "lc_cell_meme": {
     "current": "03e41dc6-c12e-11e8-b61b-0242ac110002",
     "next": "03e420c8-c12e-11e8-b61b-0242ac110002",
     "previous": "03e418ee-c12e-11e8-b61b-0242ac110002"
    }
   },
   "source": [
    "## 函数"
   ]
  },
  {
   "cell_type": "code",
   "execution_count": 3,
   "metadata": {
    "lc_cell_meme": {
     "current": "03e420c8-c12e-11e8-b61b-0242ac110002",
     "next": "03e423b6-c12e-11e8-b61b-0242ac110002",
     "previous": "03e41dc6-c12e-11e8-b61b-0242ac110002"
    }
   },
   "outputs": [
    {
     "ename": "SyntaxError",
     "evalue": "Missing parentheses in call to 'print'. Did you mean print(character,\"主演!\")? (<ipython-input-3-a92e8829ae35>, line 5)",
     "output_type": "error",
     "traceback": [
      "\u001b[0;36m  File \u001b[0;32m\"<ipython-input-3-a92e8829ae35>\"\u001b[0;36m, line \u001b[0;32m5\u001b[0m\n\u001b[0;31m    print character,\"主演!\"\u001b[0m\n\u001b[0m                  ^\u001b[0m\n\u001b[0;31mSyntaxError\u001b[0m\u001b[0;31m:\u001b[0m Missing parentheses in call to 'print'. Did you mean print(character,\"主演!\")?\n"
     ]
    }
   ],
   "source": [
    "import time;\n",
    "def watchTV(name,character):\n",
    "   \"追剧\"\n",
    "   print(\"WHAT TV------------\",name);\n",
    "   print character,\"主演!\"\n",
    "   return;\n",
    " \n",
    "# 调用函数\n",
    "watchTV(character=\"Bill Skarsgard\",name=\"Castle Rock!\");\n",
    "words=lambda when,who,what:print(when,\"------------\",who,what)\n",
    "words(time.asctime( time.localtime(time.time())),\"yangyan\",\"working......\")"
   ]
  },
  {
   "cell_type": "code",
   "execution_count": 5,
   "metadata": {
    "ExecuteTime": {
     "end_time": "2018-10-19T08:30:59.616031Z",
     "start_time": "2018-10-19T08:30:59.610065Z"
    },
    "lc_cell_meme": {
     "current": "03e423b6-c12e-11e8-b61b-0242ac110002",
     "next": "03e4269a-c12e-11e8-b61b-0242ac110002",
     "previous": "03e420c8-c12e-11e8-b61b-0242ac110002"
    }
   },
   "outputs": [
    {
     "ename": "SyntaxError",
     "evalue": "can't assign to literal (<ipython-input-5-3aa24cded7f3>, line 1)",
     "output_type": "error",
     "traceback": [
      "\u001b[0;36m  File \u001b[0;32m\"<ipython-input-5-3aa24cded7f3>\"\u001b[0;36m, line \u001b[0;32m1\u001b[0m\n\u001b[0;31m    for 10 in range(10):\u001b[0m\n\u001b[0m       ^\u001b[0m\n\u001b[0;31mSyntaxError\u001b[0m\u001b[0;31m:\u001b[0m can't assign to literal\n"
     ]
    }
   ],
   "source": [
    "for i in range(10):\n",
    "    print(\"Hello world------------------------------------------------\",i)\n",
    "    "
   ]
  },
  {
   "cell_type": "markdown",
   "metadata": {
    "lc_cell_meme": {
     "current": "03e4269a-c12e-11e8-b61b-0242ac110002",
     "next": "03e42974-c12e-11e8-b61b-0242ac110002",
     "previous": "03e423b6-c12e-11e8-b61b-0242ac110002"
    }
   },
   "source": [
    "## 执行命令"
   ]
  },
  {
   "cell_type": "code",
   "execution_count": 81,
   "metadata": {
    "lc_cell_meme": {
     "current": "03e42974-c12e-11e8-b61b-0242ac110002",
     "next": "03e42f96-c12e-11e8-b61b-0242ac110002",
     "previous": "03e4269a-c12e-11e8-b61b-0242ac110002"
    },
    "scrolled": true
   },
   "outputs": [
    {
     "name": "stdout",
     "output_type": "stream",
     "text": [
      "\n",
      "Windows IP 構成\n",
      "\n",
      "\n",
      "イーサネット アダプター イーサネット:\n",
      "\n",
      "   接続固有の DNS サフィックス . . . . .: g08.fujitsu.local\n",
      "   リンクローカル IPv6 アドレス. . . . .: fe80::a0eb:e98d:5e4:3f9c%15\n",
      "   IPv4 アドレス . . . . . . . . . . . .: 10.167.219.183\n",
      "   サブネット マスク . . . . . . . . . .: 255.255.255.0\n",
      "   デフォルト ゲートウェイ . . . . . . .: 10.167.219.1\n",
      "\n",
      "イーサネット アダプター VirtualBox Host-Only Network:\n",
      "\n",
      "   接続固有の DNS サフィックス . . . . .: \n",
      "   リンクローカル IPv6 アドレス. . . . .: fe80::3c56:53c8:1776:79e%12\n",
      "   IPv4 アドレス . . . . . . . . . . . .: 192.168.56.1\n",
      "   サブネット マスク . . . . . . . . . .: 255.255.255.0\n",
      "   デフォルト ゲートウェイ . . . . . . .: \n",
      "\n",
      "イーサネット アダプター イーサネット 2:\n",
      "\n",
      "   接続固有の DNS サフィックス . . . . .: \n",
      "   リンクローカル IPv6 アドレス. . . . .: fe80::ccb6:a7fe:fbb4:5140%8\n",
      "   IPv4 アドレス . . . . . . . . . . . .: 192.168.111.1\n",
      "   サブネット マスク . . . . . . . . . .: 255.255.255.0\n",
      "   デフォルト ゲートウェイ . . . . . . .: \n",
      "\n",
      "イーサネット アダプター vEthernet (既定のスイッチ):\n",
      "\n",
      "   接続固有の DNS サフィックス . . . . .: \n",
      "   リンクローカル IPv6 アドレス. . . . .: fe80::9d31:963e:c1dc:1b9%3\n",
      "   IPv4 アドレス . . . . . . . . . . . .: 172.17.135.97\n",
      "   サブネット マスク . . . . . . . . . .: 255.255.255.240\n",
      "   デフォルト ゲートウェイ . . . . . . .: \n"
     ]
    }
   ],
   "source": [
    "!ipconfig"
   ]
  },
  {
   "cell_type": "markdown",
   "metadata": {
    "lc_cell_meme": {
     "current": "03e42f96-c12e-11e8-b61b-0242ac110002",
     "next": null,
     "previous": "03e42974-c12e-11e8-b61b-0242ac110002"
    }
   },
   "source": [
    "<table style=\"background-color:pink;height:300px;\">\n",
    "<tr>\n",
    "  <td style=\"width:100px\">1</td>\n",
    "  <td style=\"width:100px\">1</td>\n",
    "  <td style=\"width:100px\">1</td>\n",
    "</tr>\n",
    "<tr>\n",
    "    <td style=\"width:100px\">2</td>\n",
    "    <td style=\"width:100px\">2</td>\n",
    "    <td style=\"width:100px\">2</td>\n",
    "</tr>\n",
    "<tr>\n",
    "    <td style=\"width:100px\">1</td>\n",
    "    <td style=\"width:100px\">1</td>\n",
    "    <td style=\"width:100px\">1</td>\n",
    "</tr>\n",
    "<tr>\n",
    "    <td style=\"width:100px\">2</td>\n",
    "    <td style=\"width:100px\">2</td>\n",
    "    <td style=\"width:100px\">2</td>\n",
    "</tr>\n",
    "</table>"
   ]
  }
 ],
 "metadata": {
  "kernelspec": {
   "display_name": "Python 3",
   "language": "python",
   "name": "python3"
  },
  "language_info": {
   "codemirror_mode": {
    "name": "ipython",
    "version": 3
   },
   "file_extension": ".py",
   "mimetype": "text/x-python",
   "name": "python",
   "nbconvert_exporter": "python",
   "pygments_lexer": "ipython3",
   "version": "3.6.6"
  },
  "lc_notebook_meme": {
   "current": "03e3b2be-c12e-11e8-b61b-0242ac110002",
   "lc_server_signature": {
    "current": {
     "notebook_dir": "/notebooks",
     "notebook_path": "/",
     "server_url": "http://localhost:8088/",
     "signature_id": "f3a83910-b4e4-11e8-9d0a-0242ac110002"
    },
    "history": []
   }
  },
  "toc": {
   "base_numbering": 1,
   "nav_menu": {},
   "number_sections": true,
   "sideBar": true,
   "skip_h1_title": false,
   "title_cell": "Table of Contents",
   "title_sidebar": "Contents",
   "toc_cell": false,
   "toc_position": {},
   "toc_section_display": true,
   "toc_window_display": false
  }
 },
 "nbformat": 4,
 "nbformat_minor": 2
}
